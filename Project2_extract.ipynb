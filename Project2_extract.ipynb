{
 "cells": [
  {
   "cell_type": "code",
   "execution_count": 57,
   "metadata": {},
   "outputs": [],
   "source": [
    "import pandas as pd\n",
    "import numpy as np\n",
    "from sqlalchemy import create_engine\n",
    "from datetime import datetime\n",
    "from sqlalchemy.ext.automap import automap_base\n",
    "from sqlalchemy.orm import Session\n",
    "from sqlalchemy import create_engine, func"
   ]
  },
  {
   "cell_type": "code",
   "execution_count": 89,
   "metadata": {},
   "outputs": [],
   "source": [
    "company_data = pd.read_csv(\"company_data.csv\")\n",
    " ticker_data = pd.read_csv(\"ticker_data.csv\")"
   ]
  },
  {
   "cell_type": "code",
   "execution_count": 90,
   "metadata": {},
   "outputs": [
    {
     "data": {
      "text/html": [
       "<div>\n",
       "<style scoped>\n",
       "    .dataframe tbody tr th:only-of-type {\n",
       "        vertical-align: middle;\n",
       "    }\n",
       "\n",
       "    .dataframe tbody tr th {\n",
       "        vertical-align: top;\n",
       "    }\n",
       "\n",
       "    .dataframe thead th {\n",
       "        text-align: right;\n",
       "    }\n",
       "</style>\n",
       "<table border=\"1\" class=\"dataframe\">\n",
       "  <thead>\n",
       "    <tr style=\"text-align: right;\">\n",
       "      <th></th>\n",
       "      <th>ticker</th>\n",
       "      <th>calendardate</th>\n",
       "      <th>assetturnover</th>\n",
       "      <th>currentratio</th>\n",
       "      <th>de</th>\n",
       "      <th>epsusd</th>\n",
       "      <th>grossmargin</th>\n",
       "      <th>netmargin</th>\n",
       "      <th>pe</th>\n",
       "      <th>price</th>\n",
       "      <th>ticker.1</th>\n",
       "      <th>name</th>\n",
       "      <th>category</th>\n",
       "      <th>sicsector</th>\n",
       "      <th>currency</th>\n",
       "      <th>location</th>\n",
       "      <th>sector</th>\n",
       "    </tr>\n",
       "  </thead>\n",
       "  <tbody>\n",
       "    <tr>\n",
       "      <th>0</th>\n",
       "      <td>PG</td>\n",
       "      <td>2018-12-31</td>\n",
       "      <td>0.54</td>\n",
       "      <td>0.83</td>\n",
       "      <td>1.24</td>\n",
       "      <td>3.75</td>\n",
       "      <td>0.487</td>\n",
       "      <td>0.146</td>\n",
       "      <td>20.1</td>\n",
       "      <td>78.06</td>\n",
       "      <td>PG</td>\n",
       "      <td>PROCTER &amp; GAMBLE Co</td>\n",
       "      <td>Domestic</td>\n",
       "      <td>Manufacturing</td>\n",
       "      <td>USD</td>\n",
       "      <td>Ohio U.S.A</td>\n",
       "      <td>Consumer Defensive</td>\n",
       "    </tr>\n",
       "    <tr>\n",
       "      <th>1</th>\n",
       "      <td>PG</td>\n",
       "      <td>2017-12-31</td>\n",
       "      <td>0.54</td>\n",
       "      <td>0.88</td>\n",
       "      <td>1.16</td>\n",
       "      <td>5.80</td>\n",
       "      <td>0.500</td>\n",
       "      <td>0.236</td>\n",
       "      <td>14.5</td>\n",
       "      <td>87.15</td>\n",
       "      <td>PG</td>\n",
       "      <td>PROCTER &amp; GAMBLE Co</td>\n",
       "      <td>Domestic</td>\n",
       "      <td>Manufacturing</td>\n",
       "      <td>USD</td>\n",
       "      <td>Ohio U.S.A</td>\n",
       "      <td>Consumer Defensive</td>\n",
       "    </tr>\n",
       "    <tr>\n",
       "      <th>2</th>\n",
       "      <td>PG</td>\n",
       "      <td>2016-12-31</td>\n",
       "      <td>0.51</td>\n",
       "      <td>1.10</td>\n",
       "      <td>1.19</td>\n",
       "      <td>3.80</td>\n",
       "      <td>0.496</td>\n",
       "      <td>0.161</td>\n",
       "      <td>21.4</td>\n",
       "      <td>84.67</td>\n",
       "      <td>PG</td>\n",
       "      <td>PROCTER &amp; GAMBLE Co</td>\n",
       "      <td>Domestic</td>\n",
       "      <td>Manufacturing</td>\n",
       "      <td>USD</td>\n",
       "      <td>Ohio U.S.A</td>\n",
       "      <td>Consumer Defensive</td>\n",
       "    </tr>\n",
       "    <tr>\n",
       "      <th>3</th>\n",
       "      <td>PG</td>\n",
       "      <td>2015-12-31</td>\n",
       "      <td>0.53</td>\n",
       "      <td>1.00</td>\n",
       "      <td>1.05</td>\n",
       "      <td>2.50</td>\n",
       "      <td>0.476</td>\n",
       "      <td>0.099</td>\n",
       "      <td>30.2</td>\n",
       "      <td>78.24</td>\n",
       "      <td>PG</td>\n",
       "      <td>PROCTER &amp; GAMBLE Co</td>\n",
       "      <td>Domestic</td>\n",
       "      <td>Manufacturing</td>\n",
       "      <td>USD</td>\n",
       "      <td>Ohio U.S.A</td>\n",
       "      <td>Consumer Defensive</td>\n",
       "    </tr>\n",
       "    <tr>\n",
       "      <th>4</th>\n",
       "      <td>PG</td>\n",
       "      <td>2014-12-31</td>\n",
       "      <td>0.52</td>\n",
       "      <td>0.94</td>\n",
       "      <td>1.06</td>\n",
       "      <td>4.19</td>\n",
       "      <td>0.475</td>\n",
       "      <td>0.156</td>\n",
       "      <td>18.3</td>\n",
       "      <td>78.59</td>\n",
       "      <td>PG</td>\n",
       "      <td>PROCTER &amp; GAMBLE Co</td>\n",
       "      <td>Domestic</td>\n",
       "      <td>Manufacturing</td>\n",
       "      <td>USD</td>\n",
       "      <td>Ohio U.S.A</td>\n",
       "      <td>Consumer Defensive</td>\n",
       "    </tr>\n",
       "  </tbody>\n",
       "</table>\n",
       "</div>"
      ],
      "text/plain": [
       "  ticker calendardate  assetturnover  currentratio    de  epsusd  grossmargin  \\\n",
       "0     PG   2018-12-31           0.54          0.83  1.24    3.75        0.487   \n",
       "1     PG   2017-12-31           0.54          0.88  1.16    5.80        0.500   \n",
       "2     PG   2016-12-31           0.51          1.10  1.19    3.80        0.496   \n",
       "3     PG   2015-12-31           0.53          1.00  1.05    2.50        0.476   \n",
       "4     PG   2014-12-31           0.52          0.94  1.06    4.19        0.475   \n",
       "\n",
       "   netmargin    pe  price ticker.1                 name  category  \\\n",
       "0      0.146  20.1  78.06       PG  PROCTER & GAMBLE Co  Domestic   \n",
       "1      0.236  14.5  87.15       PG  PROCTER & GAMBLE Co  Domestic   \n",
       "2      0.161  21.4  84.67       PG  PROCTER & GAMBLE Co  Domestic   \n",
       "3      0.099  30.2  78.24       PG  PROCTER & GAMBLE Co  Domestic   \n",
       "4      0.156  18.3  78.59       PG  PROCTER & GAMBLE Co  Domestic   \n",
       "\n",
       "       sicsector currency    location              sector  \n",
       "0  Manufacturing      USD  Ohio U.S.A  Consumer Defensive  \n",
       "1  Manufacturing      USD  Ohio U.S.A  Consumer Defensive  \n",
       "2  Manufacturing      USD  Ohio U.S.A  Consumer Defensive  \n",
       "3  Manufacturing      USD  Ohio U.S.A  Consumer Defensive  \n",
       "4  Manufacturing      USD  Ohio U.S.A  Consumer Defensive  "
      ]
     },
     "execution_count": 90,
     "metadata": {},
     "output_type": "execute_result"
    }
   ],
   "source": [
    "company_data.head()"
   ]
  },
  {
   "cell_type": "code",
   "execution_count": null,
   "metadata": {},
   "outputs": [],
   "source": [
    "#transform company_data\n",
    "company_clean = company_data.reset_index(drop=True)\n",
    "company_cols = company_clean[[\"ticker\",\"calendardate\",\"assetturnover\",\"currentratio\",\"de\",\"epsusd\",\"grossmargin\",\n",
    "                             \"netmargin\",\"pe\",\"price\"]]\n",
    "company_cols.head()"
   ]
  },
  {
   "cell_type": "code",
   "execution_count": null,
   "metadata": {},
   "outputs": [],
   "source": [
    "#ticker data\n",
    "ticker_data.head()"
   ]
  },
  {
   "cell_type": "code",
   "execution_count": 91,
   "metadata": {},
   "outputs": [
    {
     "data": {
      "text/html": [
       "<div>\n",
       "<style scoped>\n",
       "    .dataframe tbody tr th:only-of-type {\n",
       "        vertical-align: middle;\n",
       "    }\n",
       "\n",
       "    .dataframe tbody tr th {\n",
       "        vertical-align: top;\n",
       "    }\n",
       "\n",
       "    .dataframe thead th {\n",
       "        text-align: right;\n",
       "    }\n",
       "</style>\n",
       "<table border=\"1\" class=\"dataframe\">\n",
       "  <thead>\n",
       "    <tr style=\"text-align: right;\">\n",
       "      <th></th>\n",
       "      <th>ticker</th>\n",
       "      <th>name</th>\n",
       "      <th>category</th>\n",
       "      <th>sicsector</th>\n",
       "      <th>currency</th>\n",
       "      <th>location</th>\n",
       "      <th>sector</th>\n",
       "    </tr>\n",
       "  </thead>\n",
       "  <tbody>\n",
       "    <tr>\n",
       "      <th>0</th>\n",
       "      <td>A</td>\n",
       "      <td>Agilent Technologies Inc</td>\n",
       "      <td>Domestic</td>\n",
       "      <td>Manufacturing</td>\n",
       "      <td>USD</td>\n",
       "      <td>California U.S.A</td>\n",
       "      <td>Healthcare</td>\n",
       "    </tr>\n",
       "    <tr>\n",
       "      <th>1</th>\n",
       "      <td>AA</td>\n",
       "      <td>Alcoa Corp</td>\n",
       "      <td>Domestic</td>\n",
       "      <td>Manufacturing</td>\n",
       "      <td>USD</td>\n",
       "      <td>New York U.S.A</td>\n",
       "      <td>Basic Materials</td>\n",
       "    </tr>\n",
       "    <tr>\n",
       "      <th>2</th>\n",
       "      <td>AAAB</td>\n",
       "      <td>Admiralty Bancorp Inc</td>\n",
       "      <td>Domestic</td>\n",
       "      <td>Finance Insurance And Real Estate</td>\n",
       "      <td>USD</td>\n",
       "      <td>Florida U.S.A</td>\n",
       "      <td>Financial Services</td>\n",
       "    </tr>\n",
       "    <tr>\n",
       "      <th>3</th>\n",
       "      <td>AAAGY</td>\n",
       "      <td>Altana Aktiengesellschaft</td>\n",
       "      <td>ADR</td>\n",
       "      <td>Manufacturing</td>\n",
       "      <td>EUR</td>\n",
       "      <td>Jordan</td>\n",
       "      <td>Healthcare</td>\n",
       "    </tr>\n",
       "    <tr>\n",
       "      <th>4</th>\n",
       "      <td>AAAP</td>\n",
       "      <td>Advanced Accelerator Applications SA</td>\n",
       "      <td>ADR</td>\n",
       "      <td>Manufacturing</td>\n",
       "      <td>EUR</td>\n",
       "      <td>France</td>\n",
       "      <td>Healthcare</td>\n",
       "    </tr>\n",
       "  </tbody>\n",
       "</table>\n",
       "</div>"
      ],
      "text/plain": [
       "  ticker                                  name  category  \\\n",
       "0      A              Agilent Technologies Inc  Domestic   \n",
       "1     AA                            Alcoa Corp  Domestic   \n",
       "2   AAAB                 Admiralty Bancorp Inc  Domestic   \n",
       "3  AAAGY             Altana Aktiengesellschaft       ADR   \n",
       "4   AAAP  Advanced Accelerator Applications SA       ADR   \n",
       "\n",
       "                           sicsector currency          location  \\\n",
       "0                      Manufacturing      USD  California U.S.A   \n",
       "1                      Manufacturing      USD    New York U.S.A   \n",
       "2  Finance Insurance And Real Estate      USD     Florida U.S.A   \n",
       "3                      Manufacturing      EUR            Jordan   \n",
       "4                      Manufacturing      EUR            France   \n",
       "\n",
       "               sector  \n",
       "0          Healthcare  \n",
       "1     Basic Materials  \n",
       "2  Financial Services  \n",
       "3          Healthcare  \n",
       "4          Healthcare  "
      ]
     },
     "execution_count": 91,
     "metadata": {},
     "output_type": "execute_result"
    }
   ],
   "source": [
    "#transform ticker data\n",
    "ticker_cols = ticker_data[[\"ticker\",\"name\", \"category\",\"sicsector\",\"currency\",\"location\",\"sector\"]]\n",
    "ticker_cols.head()"
   ]
  },
  {
   "cell_type": "code",
   "execution_count": 60,
   "metadata": {},
   "outputs": [],
   "source": [
    "#Create connection\n",
    "rds_connection_string = \"root:password123@127.0.0.1/company_db\"\n",
    "engine = create_engine(f'mysql://{rds_connection_string}')"
   ]
  },
  {
   "cell_type": "code",
   "execution_count": 61,
   "metadata": {},
   "outputs": [
    {
     "data": {
      "text/plain": [
       "['company', 'ticker']"
      ]
     },
     "execution_count": 61,
     "metadata": {},
     "output_type": "execute_result"
    }
   ],
   "source": [
    "engine.table_names()"
   ]
  },
  {
   "cell_type": "code",
   "execution_count": 25,
   "metadata": {},
   "outputs": [],
   "source": [
    "#export company_cols table into sql\n",
    "company_cols.to_sql(name='company', con=engine, if_exists='append', index=False)"
   ]
  },
  {
   "cell_type": "code",
   "execution_count": 26,
   "metadata": {},
   "outputs": [],
   "source": [
    "#export ticker_cols table into sql\n",
    "ticker_cols.to_sql(name='ticker', con=engine, if_exists='append', index=False)"
   ]
  },
  {
   "cell_type": "markdown",
   "metadata": {},
   "source": [
    "# Used join in Mysql and joined the final data ., company_db"
   ]
  },
  {
   "cell_type": "code",
   "execution_count": 103,
   "metadata": {},
   "outputs": [],
   "source": [
    "company_data = pd.read_csv(\"company_data.csv\")\n",
    "del company_data['ticker.1']"
   ]
  },
  {
   "cell_type": "code",
   "execution_count": 104,
   "metadata": {},
   "outputs": [],
   "source": [
    "#create engine from project2.sqlite\n",
    "engine2 = create_engine(\"sqlite:///company_db.sqlite\")"
   ]
  },
  {
   "cell_type": "code",
   "execution_count": 105,
   "metadata": {},
   "outputs": [],
   "source": [
    "conn2 = engine2.connect()"
   ]
  },
  {
   "cell_type": "code",
   "execution_count": 106,
   "metadata": {},
   "outputs": [],
   "source": [
    "company_data.to_sql(name='company', con=engine2, if_exists='replace', index=False)"
   ]
  },
  {
   "cell_type": "code",
   "execution_count": 107,
   "metadata": {},
   "outputs": [
    {
     "data": {
      "text/html": [
       "<div>\n",
       "<style scoped>\n",
       "    .dataframe tbody tr th:only-of-type {\n",
       "        vertical-align: middle;\n",
       "    }\n",
       "\n",
       "    .dataframe tbody tr th {\n",
       "        vertical-align: top;\n",
       "    }\n",
       "\n",
       "    .dataframe thead th {\n",
       "        text-align: right;\n",
       "    }\n",
       "</style>\n",
       "<table border=\"1\" class=\"dataframe\">\n",
       "  <thead>\n",
       "    <tr style=\"text-align: right;\">\n",
       "      <th></th>\n",
       "      <th>ticker</th>\n",
       "      <th>calendardate</th>\n",
       "      <th>assetturnover</th>\n",
       "      <th>currentratio</th>\n",
       "      <th>de</th>\n",
       "      <th>epsusd</th>\n",
       "      <th>grossmargin</th>\n",
       "      <th>netmargin</th>\n",
       "      <th>pe</th>\n",
       "      <th>price</th>\n",
       "      <th>name</th>\n",
       "      <th>category</th>\n",
       "      <th>sicsector</th>\n",
       "      <th>currency</th>\n",
       "      <th>location</th>\n",
       "      <th>sector</th>\n",
       "    </tr>\n",
       "  </thead>\n",
       "  <tbody>\n",
       "    <tr>\n",
       "      <th>0</th>\n",
       "      <td>PG</td>\n",
       "      <td>2018-12-31</td>\n",
       "      <td>0.54</td>\n",
       "      <td>0.83</td>\n",
       "      <td>1.24</td>\n",
       "      <td>3.75</td>\n",
       "      <td>0.487</td>\n",
       "      <td>0.146</td>\n",
       "      <td>20.1</td>\n",
       "      <td>78.06</td>\n",
       "      <td>PROCTER &amp; GAMBLE Co</td>\n",
       "      <td>Domestic</td>\n",
       "      <td>Manufacturing</td>\n",
       "      <td>USD</td>\n",
       "      <td>Ohio U.S.A</td>\n",
       "      <td>Consumer Defensive</td>\n",
       "    </tr>\n",
       "    <tr>\n",
       "      <th>1</th>\n",
       "      <td>PG</td>\n",
       "      <td>2017-12-31</td>\n",
       "      <td>0.54</td>\n",
       "      <td>0.88</td>\n",
       "      <td>1.16</td>\n",
       "      <td>5.80</td>\n",
       "      <td>0.500</td>\n",
       "      <td>0.236</td>\n",
       "      <td>14.5</td>\n",
       "      <td>87.15</td>\n",
       "      <td>PROCTER &amp; GAMBLE Co</td>\n",
       "      <td>Domestic</td>\n",
       "      <td>Manufacturing</td>\n",
       "      <td>USD</td>\n",
       "      <td>Ohio U.S.A</td>\n",
       "      <td>Consumer Defensive</td>\n",
       "    </tr>\n",
       "    <tr>\n",
       "      <th>2</th>\n",
       "      <td>PG</td>\n",
       "      <td>2016-12-31</td>\n",
       "      <td>0.51</td>\n",
       "      <td>1.10</td>\n",
       "      <td>1.19</td>\n",
       "      <td>3.80</td>\n",
       "      <td>0.496</td>\n",
       "      <td>0.161</td>\n",
       "      <td>21.4</td>\n",
       "      <td>84.67</td>\n",
       "      <td>PROCTER &amp; GAMBLE Co</td>\n",
       "      <td>Domestic</td>\n",
       "      <td>Manufacturing</td>\n",
       "      <td>USD</td>\n",
       "      <td>Ohio U.S.A</td>\n",
       "      <td>Consumer Defensive</td>\n",
       "    </tr>\n",
       "    <tr>\n",
       "      <th>3</th>\n",
       "      <td>PG</td>\n",
       "      <td>2015-12-31</td>\n",
       "      <td>0.53</td>\n",
       "      <td>1.00</td>\n",
       "      <td>1.05</td>\n",
       "      <td>2.50</td>\n",
       "      <td>0.476</td>\n",
       "      <td>0.099</td>\n",
       "      <td>30.2</td>\n",
       "      <td>78.24</td>\n",
       "      <td>PROCTER &amp; GAMBLE Co</td>\n",
       "      <td>Domestic</td>\n",
       "      <td>Manufacturing</td>\n",
       "      <td>USD</td>\n",
       "      <td>Ohio U.S.A</td>\n",
       "      <td>Consumer Defensive</td>\n",
       "    </tr>\n",
       "    <tr>\n",
       "      <th>4</th>\n",
       "      <td>PG</td>\n",
       "      <td>2014-12-31</td>\n",
       "      <td>0.52</td>\n",
       "      <td>0.94</td>\n",
       "      <td>1.06</td>\n",
       "      <td>4.19</td>\n",
       "      <td>0.475</td>\n",
       "      <td>0.156</td>\n",
       "      <td>18.3</td>\n",
       "      <td>78.59</td>\n",
       "      <td>PROCTER &amp; GAMBLE Co</td>\n",
       "      <td>Domestic</td>\n",
       "      <td>Manufacturing</td>\n",
       "      <td>USD</td>\n",
       "      <td>Ohio U.S.A</td>\n",
       "      <td>Consumer Defensive</td>\n",
       "    </tr>\n",
       "  </tbody>\n",
       "</table>\n",
       "</div>"
      ],
      "text/plain": [
       "  ticker calendardate  assetturnover  currentratio    de  epsusd  grossmargin  \\\n",
       "0     PG   2018-12-31           0.54          0.83  1.24    3.75        0.487   \n",
       "1     PG   2017-12-31           0.54          0.88  1.16    5.80        0.500   \n",
       "2     PG   2016-12-31           0.51          1.10  1.19    3.80        0.496   \n",
       "3     PG   2015-12-31           0.53          1.00  1.05    2.50        0.476   \n",
       "4     PG   2014-12-31           0.52          0.94  1.06    4.19        0.475   \n",
       "\n",
       "   netmargin    pe  price                 name  category      sicsector  \\\n",
       "0      0.146  20.1  78.06  PROCTER & GAMBLE Co  Domestic  Manufacturing   \n",
       "1      0.236  14.5  87.15  PROCTER & GAMBLE Co  Domestic  Manufacturing   \n",
       "2      0.161  21.4  84.67  PROCTER & GAMBLE Co  Domestic  Manufacturing   \n",
       "3      0.099  30.2  78.24  PROCTER & GAMBLE Co  Domestic  Manufacturing   \n",
       "4      0.156  18.3  78.59  PROCTER & GAMBLE Co  Domestic  Manufacturing   \n",
       "\n",
       "  currency    location              sector  \n",
       "0      USD  Ohio U.S.A  Consumer Defensive  \n",
       "1      USD  Ohio U.S.A  Consumer Defensive  \n",
       "2      USD  Ohio U.S.A  Consumer Defensive  \n",
       "3      USD  Ohio U.S.A  Consumer Defensive  \n",
       "4      USD  Ohio U.S.A  Consumer Defensive  "
      ]
     },
     "execution_count": 107,
     "metadata": {},
     "output_type": "execute_result"
    }
   ],
   "source": [
    "df = pd.read_sql_query(\"select * from company;\", conn2)\n",
    "count=df[\"ticker\"].unique()\n",
    "len(count)\n",
    "len(df.columns)\n",
    "df.head()"
   ]
  },
  {
   "cell_type": "code",
   "execution_count": null,
   "metadata": {},
   "outputs": [],
   "source": [
    "# Save references to each table"
   ]
  },
  {
   "cell_type": "code",
   "execution_count": 109,
   "metadata": {},
   "outputs": [],
   "source": [
    "df_filtered=df.loc[df['ticker'].isin([\"AXP\",\n",
    "\"BA\",\n",
    "\"CAT\",\n",
    "\"CVX\",\n",
    "\"DD\",\n",
    "\"GE\",\n",
    "\"GS\",\n",
    "\"IBM\",\n",
    "\"JPM\",\n",
    "\"KO\",\n",
    "\"MCD\",\n",
    "\"MMM\",\n",
    "\"MRK\",\n",
    "\"PFE\",\n",
    "\"TRV\",\n",
    "\"TSLA\",\n",
    "\"UNH\",\n",
    "\"UTX\",\n",
    "\"VZ\",\n",
    "\"XOM\",])]"
   ]
  },
  {
   "cell_type": "code",
   "execution_count": 114,
   "metadata": {},
   "outputs": [
    {
     "data": {
      "text/plain": [
       "112"
      ]
     },
     "execution_count": 114,
     "metadata": {},
     "output_type": "execute_result"
    }
   ],
   "source": [
    "\n",
    "df_filtered.head()\n",
    "len(df_filtered[\"ticker\"])"
   ]
  },
  {
   "cell_type": "code",
   "execution_count": 115,
   "metadata": {},
   "outputs": [],
   "source": [
    "engine2 = create_engine(\"sqlite:///company_db.sqlite\")"
   ]
  },
  {
   "cell_type": "code",
   "execution_count": 116,
   "metadata": {},
   "outputs": [],
   "source": [
    "conn2 = engine2.connect()"
   ]
  },
  {
   "cell_type": "code",
   "execution_count": 117,
   "metadata": {},
   "outputs": [],
   "source": [
    "df_filtered.to_sql(name='company', con=engine2, if_exists='replace', index=False)"
   ]
  },
  {
   "cell_type": "code",
   "execution_count": 120,
   "metadata": {},
   "outputs": [
    {
     "data": {
      "text/plain": [
       "112"
      ]
     },
     "execution_count": 120,
     "metadata": {},
     "output_type": "execute_result"
    }
   ],
   "source": [
    "df = pd.read_sql_query(\"select * from company;\", conn2)\n",
    "count=df[\"ticker\"].unique()\n",
    "len(df)\n"
   ]
  },
  {
   "cell_type": "code",
   "execution_count": null,
   "metadata": {},
   "outputs": [],
   "source": []
  }
 ],
 "metadata": {
  "kernelspec": {
   "display_name": "Python 3",
   "language": "python",
   "name": "python3"
  },
  "language_info": {
   "codemirror_mode": {
    "name": "ipython",
    "version": 3
   },
   "file_extension": ".py",
   "mimetype": "text/x-python",
   "name": "python",
   "nbconvert_exporter": "python",
   "pygments_lexer": "ipython3",
   "version": "3.7.1"
  }
 },
 "nbformat": 4,
 "nbformat_minor": 2
}
